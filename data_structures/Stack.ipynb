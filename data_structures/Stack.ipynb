{
 "cells": [
  {
   "cell_type": "markdown",
   "metadata": {},
   "source": [
    "# Data structures in python: the Stack"
   ]
  },
  {
   "cell_type": "markdown",
   "metadata": {},
   "source": [
    "A stack is a data structure that has two main operations: push and pop. Push appends an element on top of the stack, pop removes the top element of the stack. We can compare this in real life to a stack of plates, we can add a plate to the top of the stack or remove the top plate. \n",
    "Because we can only operate on the data on the top of the stack, this data structure is referred to as LIFO (last in first out) and FILO (first in last out)."
   ]
  },
  {
   "cell_type": "markdown",
   "metadata": {},
   "source": [
    "Stacks can be useful for tracing back to access previous elements and operations (eg. the 'ctrl + Z' function or the backspace). Stacks can also be used to keep track of recursions in a code. "
   ]
  },
  {
   "cell_type": "markdown",
   "metadata": {},
   "source": [
    "The code below demonstrates the use of a stacks in Python"
   ]
  },
  {
   "cell_type": "code",
   "execution_count": 1,
   "metadata": {},
   "outputs": [],
   "source": [
    "#initiating a stack class\n",
    "class Stack:\n",
    "    def __init__(self):\n",
    "        self.stack = [] #start with an empty list\n",
    "    \n",
    "    #this function checks if the stack is empty\n",
    "    def is_empty(self):\n",
    "        return self.size() == 0\n",
    "    \n",
    "    #this function pops the last element from the stack\n",
    "    def pop(self):\n",
    "        if self.is_empty(): #uses is_empty function to check if stack is empty\n",
    "            return None\n",
    "        else:\n",
    "            return self.stack.pop() #returns the popped element\n",
    "    \n",
    "    #this function pushes a value to the stack\n",
    "    def push(self,val):\n",
    "        return self.stack.append(val)\n",
    "    \n",
    "    #this function returns the size of the stack\n",
    "    def size(self):\n",
    "        return len(self.stack)\n",
    "    \n",
    "    #this function returns the top element of the stack\n",
    "    def top(self):\n",
    "        if self.is_empty():\n",
    "            return None\n",
    "        else:\n",
    "            return self.stack[-1]\n"
   ]
  },
  {
   "cell_type": "code",
   "execution_count": 2,
   "metadata": {},
   "outputs": [],
   "source": [
    "#creating an instance of the class Stack\n",
    "stack1 = Stack()\n",
    "#pushing some values to stack1\n",
    "for i in range(1,20,2):\n",
    "    stack1.push(i)"
   ]
  },
  {
   "cell_type": "code",
   "execution_count": 3,
   "metadata": {},
   "outputs": [
    {
     "data": {
      "text/plain": [
       "19"
      ]
     },
     "execution_count": 3,
     "metadata": {},
     "output_type": "execute_result"
    }
   ],
   "source": [
    "#checking the top value of stack1\n",
    "stack1.top()"
   ]
  },
  {
   "cell_type": "code",
   "execution_count": 4,
   "metadata": {},
   "outputs": [
    {
     "data": {
      "text/plain": [
       "10"
      ]
     },
     "execution_count": 4,
     "metadata": {},
     "output_type": "execute_result"
    }
   ],
   "source": [
    "#checking the size of stack1\n",
    "stack1.size()"
   ]
  },
  {
   "cell_type": "code",
   "execution_count": 5,
   "metadata": {},
   "outputs": [
    {
     "data": {
      "text/plain": [
       "19"
      ]
     },
     "execution_count": 5,
     "metadata": {},
     "output_type": "execute_result"
    }
   ],
   "source": [
    "#poping the top element\n",
    "stack1.pop()"
   ]
  },
  {
   "cell_type": "markdown",
   "metadata": {},
   "source": [
    "A useful application of stacks is to see wether a combination of brackets is balanced, eg: ((())), or unbalanced, eg (((()"
   ]
  },
  {
   "cell_type": "code",
   "execution_count": 5,
   "metadata": {},
   "outputs": [],
   "source": [
    "def paren_check(mystring):\n",
    "    s = Stack()\n",
    "    balanced = True\n",
    "    i = 0\n",
    "\n",
    "    while i < len(mystring) and balanced:\n",
    "        if mystring[i] == \"(\":\n",
    "            s.push(mystring[i]) \n",
    "            \n",
    "        else:\n",
    "            if s.is_empty():\n",
    "                balanced = False\n",
    "            else:\n",
    "                s.pop() \n",
    "        i+=1\n",
    "\n",
    "    if balanced and s.is_empty():\n",
    "        return True\n",
    "    else:\n",
    "        return False"
   ]
  },
  {
   "cell_type": "code",
   "execution_count": 6,
   "metadata": {},
   "outputs": [
    {
     "output_type": "execute_result",
     "data": {
      "text/plain": "True"
     },
     "metadata": {},
     "execution_count": 6
    }
   ],
   "source": [
    "paren_check('(((())))')"
   ]
  },
  {
   "cell_type": "code",
   "execution_count": 7,
   "metadata": {},
   "outputs": [
    {
     "output_type": "execute_result",
     "data": {
      "text/plain": "False"
     },
     "metadata": {},
     "execution_count": 7
    }
   ],
   "source": [
    "paren_check('(((())')"
   ]
  },
  {
   "cell_type": "markdown",
   "metadata": {},
   "source": [
    "For a more advanced version of this, that included any type or brackets, we can do the following:"
   ]
  },
  {
   "cell_type": "code",
   "execution_count": 8,
   "metadata": {},
   "outputs": [],
   "source": [
    "def paren_check2(mystring):\n",
    "    s = Stack()\n",
    "    balanced = True\n",
    "    i = 0\n",
    "\n",
    "    while i < len(mystring) and balanced:\n",
    "        if mystring[i] in \"([{\":\n",
    "            s.push(mystring[i])\n",
    "            \n",
    "        else:\n",
    "            if s.is_empty():\n",
    "                balanced = False\n",
    "            else:\n",
    "                top = s.pop()\n",
    "                if not matches(top,mystring[i]):\n",
    "                    balanced = False \n",
    "        i+=1\n",
    "\n",
    "    if balanced and s.is_empty():\n",
    "        return True\n",
    "    else:\n",
    "        return False\n",
    "\n",
    "\n",
    "#helperfunction\n",
    "def matches(open, close):\n",
    "    opens = '{[('\n",
    "    closes = '}])'\n",
    "    return opens.index(open) == closes.index(close)\n"
   ]
  },
  {
   "cell_type": "code",
   "execution_count": 10,
   "metadata": {
    "tags": []
   },
   "outputs": [
    {
     "output_type": "stream",
     "name": "stdout",
     "text": "True\n"
    }
   ],
   "source": [
    "print(paren_check2(\"{{[()]}}\"))"
   ]
  },
  {
   "cell_type": "code",
   "execution_count": 11,
   "metadata": {
    "tags": []
   },
   "outputs": [
    {
     "output_type": "stream",
     "name": "stdout",
     "text": "False\n"
    }
   ],
   "source": [
    "print(paren_check2(\"{{[()}}\"))"
   ]
  },
  {
   "cell_type": "code",
   "execution_count": null,
   "metadata": {},
   "outputs": [],
   "source": []
  }
 ],
 "metadata": {
  "kernelspec": {
   "display_name": "Python 3",
   "language": "python",
   "name": "python3"
  },
  "language_info": {
   "codemirror_mode": {
    "name": "ipython",
    "version": 3
   },
   "file_extension": ".py",
   "mimetype": "text/x-python",
   "name": "python",
   "nbconvert_exporter": "python",
   "pygments_lexer": "ipython3",
   "version": "3.7.4-final"
  }
 },
 "nbformat": 4,
 "nbformat_minor": 2
}