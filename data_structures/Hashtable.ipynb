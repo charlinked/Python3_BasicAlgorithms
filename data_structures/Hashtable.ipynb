{
 "cells": [
  {
   "cell_type": "markdown",
   "metadata": {},
   "source": [
    "# Data structures in python: the Hash Table"
   ]
  },
  {
   "cell_type": "markdown",
   "metadata": {},
   "source": [
    "A hash table is a data structure where data is stored in an associative manner, with key/value format. The key/value pairs are unique, which makes it easier to find data later on. Hash tables store data in an array format and use a hashing function to generate a slot for storage of an element."
   ]
  },
  {
   "cell_type": "markdown",
   "metadata": {},
   "source": [
    "Time complexity: on an average case the complexity will be O(1), but in worst case, if too many elements were hashed into the same key, it can have a time complexity of O(n)."
   ]
  },
  {
   "cell_type": "markdown",
   "metadata": {},
   "source": [
    "A common problem with Hash Tables is 'Collision', this is when two items get the same slot. If collision is not accounted for and resolved, the previous item will be replaced by the new item whenever collision occurs. Collision is generally resolved by either linear probing or chaining. \n",
    "The code below implements a hash table in python and uses chaining to deal with possible collision (by creating the hash table as a nested list)."
   ]
  },
  {
   "cell_type": "code",
   "execution_count": 49,
   "metadata": {},
   "outputs": [],
   "source": [
    "#initating a hashtable class:\n",
    "class HashTable:\n",
    "    #creating a hash table with 10 slots using a nested list\n",
    "    def __init__(self):\n",
    "        self.hash_table =[[] for _ in range(10)]\n",
    "    \n",
    "    #function to insert a new element in the hash table\n",
    "    def insert(self,key,value):\n",
    "        hash_key = hash(key) % len(self.hash_table)\n",
    "        bucket = self.hash_table[hash_key] # = each individual list inside the hash table\n",
    "        key_exists =False\n",
    "        \n",
    "        #first checking if the element already exists - go through hash table\n",
    "        for i, key_value in enumerate(bucket):\n",
    "            k,v = key_value\n",
    "            if key == k:\n",
    "                key_exists = True\n",
    "                break\n",
    "        #if key is already present, update it's value with the new one\n",
    "        if key_exists:\n",
    "            bucket[i] = ((key, value))\n",
    "        #if key not present, insert a new key/value pair\n",
    "        else:\n",
    "            bucket.append((key,value))\n",
    "    \n",
    "    #function to search for a value by its key\n",
    "    def searchval(self,hash_table, key):\n",
    "        hash_key = hash(key) % len(self.hash_table)\n",
    "        bucket = self.hash_table[hash_key]\n",
    "        #loop through the individual list to search\n",
    "        for i, key_value in enumerate(bucket):\n",
    "            k,v = key_value\n",
    "            if k == key:\n",
    "                return v\n",
    "            \n",
    "    #function to delete a value from the hash table            \n",
    "    def deleteh(self,key):\n",
    "        hash_key = hash(key) % len(self.hash_table)\n",
    "        bucket = self.hash_table[hash_key]\n",
    "        key_exists = False\n",
    "        for i, key_value in enumerate(bucket):\n",
    "            k,v = key_value\n",
    "            if key == k:\n",
    "                key_exists = True\n",
    "                break\n",
    "        if key_exists:\n",
    "            del bucket[i]\n",
    "            print(\"{} deleted from hash table\".format(key))\n",
    "        else:\n",
    "            print(\"{} not found in hash table\".format(key))\n",
    "            \n",
    "    #function to print the hash table:\n",
    "    def print_hash_table(self):\n",
    "        print(self.hash_table)"
   ]
  },
  {
   "cell_type": "code",
   "execution_count": 50,
   "metadata": {},
   "outputs": [
    {
     "name": "stdout",
     "output_type": "stream",
     "text": [
      "[[], [], [], [], [], [], [], [], [], []]\n"
     ]
    }
   ],
   "source": [
    "#creating an instance of HashTable\n",
    "mytable = HashTable()\n",
    "mytable.print_hash_table()"
   ]
  },
  {
   "cell_type": "code",
   "execution_count": 51,
   "metadata": {},
   "outputs": [
    {
     "name": "stdout",
     "output_type": "stream",
     "text": [
      "[[(10, 'cat'), (20, 'lion')], [], [], [], [(4, 'dog')], [(15, 'camel')], [(6, 'rabbit')], [], [], []]\n"
     ]
    }
   ],
   "source": [
    "#inserting some elements with key in my hash table\n",
    "mytable.insert(10, 'cat')\n",
    "mytable.insert(4, 'dog')\n",
    "mytable.insert(20, 'lion')\n",
    "mytable.insert(15, 'camel')\n",
    "mytable.insert(6, 'rabbit')\n",
    "mytable.print_hash_table()"
   ]
  },
  {
   "cell_type": "code",
   "execution_count": 52,
   "metadata": {},
   "outputs": [
    {
     "data": {
      "text/plain": [
       "'cat'"
      ]
     },
     "execution_count": 52,
     "metadata": {},
     "output_type": "execute_result"
    }
   ],
   "source": [
    "#searching for an element in the hashtable by key\n",
    "mytable.searchval(mytable,10)"
   ]
  },
  {
   "cell_type": "code",
   "execution_count": 53,
   "metadata": {},
   "outputs": [
    {
     "name": "stdout",
     "output_type": "stream",
     "text": [
      "20 deleted from hash table\n",
      "[[(10, 'cat')], [], [], [], [(4, 'dog')], [(15, 'camel')], [(6, 'rabbit')], [], [], []]\n"
     ]
    }
   ],
   "source": [
    "#deleting an element in the hash table\n",
    "mytable.deleteh(20)\n",
    "mytable.print_hash_table()"
   ]
  },
  {
   "cell_type": "code",
   "execution_count": null,
   "metadata": {},
   "outputs": [],
   "source": []
  },
  {
   "cell_type": "code",
   "execution_count": null,
   "metadata": {},
   "outputs": [],
   "source": []
  }
 ],
 "metadata": {
  "kernelspec": {
   "display_name": "Python 3",
   "language": "python",
   "name": "python3"
  },
  "language_info": {
   "codemirror_mode": {
    "name": "ipython",
    "version": 3
   },
   "file_extension": ".py",
   "mimetype": "text/x-python",
   "name": "python",
   "nbconvert_exporter": "python",
   "pygments_lexer": "ipython3",
   "version": "3.7.4"
  }
 },
 "nbformat": 4,
 "nbformat_minor": 2
}
