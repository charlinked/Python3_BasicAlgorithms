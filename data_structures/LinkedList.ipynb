{
 "cells": [
  {
   "cell_type": "markdown",
   "metadata": {},
   "source": [
    "# Data structures in python: the Linked List"
   ]
  },
  {
   "cell_type": "markdown",
   "metadata": {},
   "source": [
    "A linked list is a data structure consisting of nodes, where each node has a value and a pointer to another node. This makes a linked list essentially a chain of values connected with pointers. The starting node of a linked list is called the header."
   ]
  },
  {
   "cell_type": "markdown",
   "metadata": {},
   "source": [
    "A linked list is comparable to an array, with the difference that elements in a linked list can be dynamically allocated. The latter saves memory with only allocating the memory space required for the values to be stored. in an array the size has to be set before filling it with values which can potentially waste memory. Another advantage of linked lists is that they can live anywhere in the memory since each node can be flexibily moved, an array on the contrary requires a sequence of memory to be initiated."
   ]
  },
  {
   "cell_type": "markdown",
   "metadata": {},
   "source": [
    "The code below demonstrates the use of a linked list in Python"
   ]
  },
  {
   "cell_type": "code",
   "execution_count": 11,
   "metadata": {},
   "outputs": [],
   "source": [
    "#initiating a node class\n",
    "class Node:\n",
    "    def __init__(self,val):\n",
    "        self.val = val\n",
    "        self.next = None #initially the pointer points to nothing\n",
    "    \n",
    "    # adding a function to traverse the linked list once created   \n",
    "    def traverse(self):\n",
    "        node = self\n",
    "        while node !=None:\n",
    "            print(node.val) #prints the value of the current node\n",
    "            node = node.next #moves on to the next node\n",
    "        \n",
    "#implementing a linked list\n",
    "#defining the values\n",
    "node1 = Node(10)\n",
    "node2 = Node(20)\n",
    "node3 = Node(30)\n",
    "\n",
    "#defining the pointers of each node\n",
    "node1.next = node2 #node1 points to node2\n",
    "node2.next = node3 #node1 points to node2\n",
    "\n"
   ]
  },
  {
   "cell_type": "code",
   "execution_count": 13,
   "metadata": {},
   "outputs": [
    {
     "name": "stdout",
     "output_type": "stream",
     "text": [
      "10\n",
      "20\n",
      "30\n"
     ]
    }
   ],
   "source": [
    "#traversing the linked list from the beginning\n",
    "node1.traverse()"
   ]
  },
  {
   "cell_type": "code",
   "execution_count": null,
   "metadata": {},
   "outputs": [],
   "source": []
  }
 ],
 "metadata": {
  "kernelspec": {
   "display_name": "Python 3",
   "language": "python",
   "name": "python3"
  },
  "language_info": {
   "codemirror_mode": {
    "name": "ipython",
    "version": 3
   },
   "file_extension": ".py",
   "mimetype": "text/x-python",
   "name": "python",
   "nbconvert_exporter": "python",
   "pygments_lexer": "ipython3",
   "version": "3.7.4"
  }
 },
 "nbformat": 4,
 "nbformat_minor": 2
}
