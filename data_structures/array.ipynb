{
 "cells": [
  {
   "cell_type": "markdown",
   "metadata": {},
   "source": [
    "# Data structures in python: the Array"
   ]
  },
  {
   "cell_type": "markdown",
   "metadata": {},
   "source": [
    "An array is a collection of items, all of THE SAME data type, stored at contiguous locations in the memory. Array's can be handeled in python by the module 'array'. Compared to lists, arrays are more memory efficient since they can be stored compactely. This makes arrays especially suitable for large amounts of data."
   ]
  },
  {
   "cell_type": "markdown",
   "metadata": {},
   "source": [
    "The code below demonstrates the use of an array in Python"
   ]
  },
  {
   "cell_type": "code",
   "execution_count": 2,
   "metadata": {},
   "outputs": [],
   "source": [
    "import array as arr #needed to allow array creation\n",
    "\n",
    "#creating an array with integers\n",
    "array1 = arr.array('i',[11,12,13,14,15,16,17,18,19,20])\n",
    "\n",
    "#creating an array with floats\n",
    "array2 = arr.array('d',[2.1,2.2,2.3,2.4,2.5])\n"
   ]
  },
  {
   "cell_type": "code",
   "execution_count": 5,
   "metadata": {},
   "outputs": [
    {
     "name": "stdout",
     "output_type": "stream",
     "text": [
      "array('i', [11, 12, 13, 14, 15, 16, 17, 18, 19, 20])\n"
     ]
    }
   ],
   "source": [
    "#printing the array\n",
    "\n",
    "print(array1)\n"
   ]
  },
  {
   "cell_type": "code",
   "execution_count": 12,
   "metadata": {},
   "outputs": [
    {
     "name": "stdout",
     "output_type": "stream",
     "text": [
      "Array2 contains:  2.1, 2.2, 2.3, 2.4, 2.5, "
     ]
    }
   ],
   "source": [
    "#printing array2 in a more elegant way\n",
    "print('Array2 contains: ', end=\" \")\n",
    "for i in range(len(array2)):\n",
    "    print(array2[i], end=\", \")"
   ]
  },
  {
   "cell_type": "code",
   "execution_count": null,
   "metadata": {},
   "outputs": [],
   "source": []
  },
  {
   "cell_type": "markdown",
   "metadata": {},
   "source": [
    "Other functionalities with arrays very similar to working with lists in python. some of the things we can do with an array are: append to an array, inserting an element at a certain position of an array, accessing elements at a certain index in an array using the [] operator, removing an element from an array with 'remove()', and popping the last element from an array and returning the popped element with 'pop()'."
   ]
  },
  {
   "cell_type": "code",
   "execution_count": null,
   "metadata": {},
   "outputs": [],
   "source": []
  }
 ],
 "metadata": {
  "kernelspec": {
   "display_name": "Python 3",
   "language": "python",
   "name": "python3"
  },
  "language_info": {
   "codemirror_mode": {
    "name": "ipython",
    "version": 3
   },
   "file_extension": ".py",
   "mimetype": "text/x-python",
   "name": "python",
   "nbconvert_exporter": "python",
   "pygments_lexer": "ipython3",
   "version": "3.7.4"
  }
 },
 "nbformat": 4,
 "nbformat_minor": 2
}
