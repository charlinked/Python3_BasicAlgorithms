{
 "cells": [
  {
   "cell_type": "markdown",
   "metadata": {},
   "source": [
    "# Data structures in python: the Queue"
   ]
  },
  {
   "cell_type": "markdown",
   "metadata": {},
   "source": [
    "The queue data structure is similar to the stack, with the difference that the queue is a FIFO (first in, first out) and LILO (last in, last out) structure with main operations: enqueue and dequeue). Enqueue will append an element to the tail of the queue while dequeue will remove an element from the head of the queue. This makes queues in python just like queues in real life: each person will join the line at the end and leave the line when they reach the beginning."
   ]
  },
  {
   "cell_type": "markdown",
   "metadata": {},
   "source": [
    "Queues are usefull if there is a need to process things one at a time as they come in, e.g. processing requests to a webserver."
   ]
  },
  {
   "cell_type": "markdown",
   "metadata": {},
   "source": [
    "The code below demonstrates the use of a queues in Python"
   ]
  },
  {
   "cell_type": "code",
   "execution_count": 5,
   "metadata": {},
   "outputs": [],
   "source": [
    "#initiating a queue class\n",
    "class Queue:\n",
    "    def __init__(self):\n",
    "        self.queue = [] #start with an empty list\n",
    "    \n",
    "    #this function checks if the queue is empty\n",
    "    def is_empty(self):\n",
    "        return self.size() == 0\n",
    "    \n",
    "    #this function removes the first element from a queue\n",
    "    def dequeue(self):\n",
    "        if self.is_empty(): #uses is_empty function to check if queue is empty\n",
    "            return None\n",
    "        else:\n",
    "            return self.queue.pop() #returns the element that was dequeued\n",
    "    \n",
    "    #this function adds an element to the tail of the queue\n",
    "    def enqueue(self,val):\n",
    "        self.queue.insert(0,val)\n",
    "    \n",
    "    #this function returns the size of the queue\n",
    "    def size(self):\n",
    "        return len(self.queue)\n",
    "    \n",
    "# a queue uses the functionality of a list, but operates a list in reverse as it will\n",
    "# insert elements at position 0 and remove elements only by popping\n",
    "# the left side of the list is the tail, the left side the head of the queue"
   ]
  },
  {
   "cell_type": "code",
   "execution_count": 6,
   "metadata": {},
   "outputs": [],
   "source": [
    "#creating an instance of the class queue\n",
    "queue1 = Queue()\n",
    "#adding some values to Queue\n",
    "for i in range(1,20,2):\n",
    "    queue1.enqueue(i)"
   ]
  },
  {
   "cell_type": "code",
   "execution_count": 7,
   "metadata": {},
   "outputs": [
    {
     "data": {
      "text/plain": [
       "10"
      ]
     },
     "execution_count": 7,
     "metadata": {},
     "output_type": "execute_result"
    }
   ],
   "source": [
    "#checking the size of queue1\n",
    "queue1.size()"
   ]
  },
  {
   "cell_type": "code",
   "execution_count": 8,
   "metadata": {},
   "outputs": [
    {
     "data": {
      "text/plain": [
       "1"
      ]
     },
     "execution_count": 8,
     "metadata": {},
     "output_type": "execute_result"
    }
   ],
   "source": [
    "#removes the first element at the head of queue1\n",
    "queue1.dequeue()"
   ]
  },
  {
   "cell_type": "code",
   "execution_count": null,
   "metadata": {},
   "outputs": [],
   "source": []
  }
 ],
 "metadata": {
  "kernelspec": {
   "display_name": "Python 3",
   "language": "python",
   "name": "python3"
  },
  "language_info": {
   "codemirror_mode": {
    "name": "ipython",
    "version": 3
   },
   "file_extension": ".py",
   "mimetype": "text/x-python",
   "name": "python",
   "nbconvert_exporter": "python",
   "pygments_lexer": "ipython3",
   "version": "3.7.4"
  }
 },
 "nbformat": 4,
 "nbformat_minor": 2
}
