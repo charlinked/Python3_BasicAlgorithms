{
 "cells": [
  {
   "cell_type": "markdown",
   "metadata": {},
   "source": [
    "# Python program for Linear Search"
   ]
  },
  {
   "cell_type": "markdown",
   "metadata": {},
   "source": [
    "A linear search is the most basic kind of search that we can perform: it will inspect each item from start to beginning to find the item you were looking for. It's a very easy search program but if you're list is very large, it can take a long time to find the item (in the latter case see Binary Search).\n"
   ]
  },
  {
   "cell_type": "markdown",
   "metadata": {},
   "source": [
    "Runtime complexity: O(n)"
   ]
  },
  {
   "cell_type": "markdown",
   "metadata": {},
   "source": [
    " "
   ]
  },
  {
   "cell_type": "markdown",
   "metadata": {},
   "source": [
    "This is the python program for implementation of Linear Search, demonstrated with an example"
   ]
  },
  {
   "cell_type": "code",
   "execution_count": 26,
   "metadata": {},
   "outputs": [],
   "source": [
    "def linsearch(alist,n):\n",
    "    i =0 #to keep track of the position our search is at\n",
    "    found = False\n",
    "    \n",
    "    while i<len(alist) and not found:\n",
    "        if alist[i]==n:\n",
    "            found = True\n",
    "            print(n, ' was found in the list at index ', i)\n",
    "            break\n",
    "        i = i+1 \n",
    "        \n",
    "    if not found:  \n",
    "        print(n, ' was not found in the list!')"
   ]
  },
  {
   "cell_type": "code",
   "execution_count": 27,
   "metadata": {},
   "outputs": [
    {
     "name": "stdout",
     "output_type": "stream",
     "text": [
      "13  was not found in the list!\n"
     ]
    }
   ],
   "source": [
    "# Driver code to test above\n",
    "\n",
    "alist = [64,34,25,12,22,11,90]\n",
    "n = 13\n",
    "\n",
    "linsearch(alist,n)"
   ]
  },
  {
   "cell_type": "code",
   "execution_count": 28,
   "metadata": {},
   "outputs": [
    {
     "name": "stdout",
     "output_type": "stream",
     "text": [
      "12  was found in the list at index  3\n"
     ]
    }
   ],
   "source": [
    "# Driver code to test above\n",
    "\n",
    "alist = [64,34,25,12,22,11,90]\n",
    "n = 12\n",
    "\n",
    "linsearch(alist,n)"
   ]
  },
  {
   "cell_type": "code",
   "execution_count": null,
   "metadata": {},
   "outputs": [],
   "source": []
  }
 ],
 "metadata": {
  "kernelspec": {
   "display_name": "Python 3",
   "language": "python",
   "name": "python3"
  },
  "language_info": {
   "codemirror_mode": {
    "name": "ipython",
    "version": 3
   },
   "file_extension": ".py",
   "mimetype": "text/x-python",
   "name": "python",
   "nbconvert_exporter": "python",
   "pygments_lexer": "ipython3",
   "version": "3.7.4"
  }
 },
 "nbformat": 4,
 "nbformat_minor": 2
}
