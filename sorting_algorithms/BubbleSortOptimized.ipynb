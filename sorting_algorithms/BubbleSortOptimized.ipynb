{
 "cells": [
  {
   "cell_type": "markdown",
   "metadata": {},
   "source": [
    "# Python Program for Bubble Sort (optimized)"
   ]
  },
  {
   "cell_type": "markdown",
   "metadata": {},
   "source": [
    "The Bubble Sort algorithm can be optimized by stopping the algorithm if the inner loop didn't cause any swap.\n",
    "When the array is already sorted, the runtimecomplexity is reduced from O(n^2) to O(n)"
   ]
  },
  {
   "cell_type": "code",
   "execution_count": null,
   "metadata": {},
   "outputs": [],
   "source": []
  },
  {
   "cell_type": "markdown",
   "metadata": {},
   "source": [
    "This is the python program for implementation of Bubble Sort (optimized), demonstrated with an example"
   ]
  },
  {
   "cell_type": "code",
   "execution_count": 8,
   "metadata": {},
   "outputs": [],
   "source": [
    "def bubbleSort(alist):\n",
    "    n = len(alist)\n",
    "    \n",
    "#Setting the range for comparison (first round: n, second round: n-1  and so on)\n",
    "    for i in range(n):\n",
    "        swapped = False\n",
    "\n",
    "      #Comparing within set range\n",
    "        for j in range(0,n-i-1):\n",
    "\n",
    "           #Comparing element with its right side neighbor\n",
    "           if alist[j] > alist[j+1]:\n",
    "\n",
    "               #swapping - checkpoint to see if list was already sorted\n",
    "               alist[j], alist[j+1] = alist[j+1], alist[j]\n",
    "               swapped = True\n",
    "\n",
    "        if swapped == False:\n",
    "           break\n",
    "    \n",
    "    return alist"
   ]
  },
  {
   "cell_type": "code",
   "execution_count": 9,
   "metadata": {},
   "outputs": [
    {
     "data": {
      "text/plain": [
       "[11, 12, 22, 25, 34, 64, 90]"
      ]
     },
     "execution_count": 9,
     "metadata": {},
     "output_type": "execute_result"
    }
   ],
   "source": [
    "# Driver code to test above\n",
    "sort_me = [64,34,25,12,22,11,90]\n",
    "\n",
    "bubbleSort(sort_me)"
   ]
  },
  {
   "cell_type": "code",
   "execution_count": null,
   "metadata": {},
   "outputs": [],
   "source": []
  }
 ],
 "metadata": {
  "kernelspec": {
   "display_name": "Python 3",
   "language": "python",
   "name": "python3"
  },
  "language_info": {
   "codemirror_mode": {
    "name": "ipython",
    "version": 3
   },
   "file_extension": ".py",
   "mimetype": "text/x-python",
   "name": "python",
   "nbconvert_exporter": "python",
   "pygments_lexer": "ipython3",
   "version": "3.7.4"
  }
 },
 "nbformat": 4,
 "nbformat_minor": 2
}
