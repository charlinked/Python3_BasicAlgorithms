{
 "cells": [
  {
   "cell_type": "markdown",
   "metadata": {},
   "source": [
    "# Python program for Binary Search"
   ]
  },
  {
   "cell_type": "markdown",
   "metadata": {},
   "source": [
    "A binary search is another Divide and Conquer algorithm. It will search for an item by repeatedly diving the search array in half. Because of this, binary search is more efficient than a linear search (see time complexity). There are two ways to code a binary search: using recursion or iteration. "
   ]
  },
  {
   "cell_type": "markdown",
   "metadata": {},
   "source": [
    " Runtime complexity: O(log n)"
   ]
  },
  {
   "cell_type": "markdown",
   "metadata": {},
   "source": [
    " "
   ]
  },
  {
   "cell_type": "markdown",
   "metadata": {},
   "source": [
    "This is the python program for implementation of Binary Search with recursion, demonstrated with an example"
   ]
  },
  {
   "cell_type": "code",
   "execution_count": 24,
   "metadata": {},
   "outputs": [],
   "source": [
    "def binsearchr(arr,l,r,n):\n",
    "    \n",
    "    if r>=l: \n",
    "  \n",
    "        mid = (l+r)//2 #floor division to find mid of array\n",
    "  \n",
    "        # check if item is present at mid of search array\n",
    "        if arr[mid] == n: \n",
    "            return mid \n",
    "          \n",
    "        # check if item is smaller than mid\n",
    "        elif arr[mid] > n: \n",
    "            return binsearchr(arr, l, mid-1, n) #if so we only search the left sub array\n",
    "  \n",
    "        # if not we search the right subarray\n",
    "        else: \n",
    "            return binsearchr(arr, mid+1, r, n) \n",
    "  \n",
    "    else: \n",
    "        # If we reach here, then the element was not present \n",
    "        return -1"
   ]
  },
  {
   "cell_type": "code",
   "execution_count": 25,
   "metadata": {},
   "outputs": [],
   "source": [
    "# Driver code to test above\n",
    "arr = [11, 12, 22, 25, 34, 64, 90]\n",
    "n = 25"
   ]
  },
  {
   "cell_type": "code",
   "execution_count": 26,
   "metadata": {
    "scrolled": true
   },
   "outputs": [
    {
     "name": "stdout",
     "output_type": "stream",
     "text": [
      "Element is present at index 3\n"
     ]
    }
   ],
   "source": [
    "# Calls the function above\n",
    "result = binsearchr(arr, 0, len(arr)-1, n) \n",
    "  \n",
    "if result != -1: \n",
    "    print('Element is present at index', result) \n",
    "else: \n",
    "    print('Element is not present in array')"
   ]
  },
  {
   "cell_type": "code",
   "execution_count": null,
   "metadata": {},
   "outputs": [],
   "source": []
  },
  {
   "cell_type": "markdown",
   "metadata": {},
   "source": [
    "This is the python program for implementation of Binary Search with iteration, demonstrated with an example"
   ]
  },
  {
   "cell_type": "code",
   "execution_count": 27,
   "metadata": {},
   "outputs": [],
   "source": [
    "def binsearchi(arr, l, r, n): \n",
    "  \n",
    "    while l <= r: \n",
    "  \n",
    "        mid = (l+r)//2 #floor division to find mid of array\n",
    "          \n",
    "        # check if item is present at mid of search array\n",
    "        if arr[mid] == n: \n",
    "            return mid \n",
    "  \n",
    "        # check if item is bigger than mid, if so search right subarray\n",
    "        elif arr[mid] < n: \n",
    "            l = mid + 1 \n",
    "  \n",
    "        # else item is smaller than mid, search left subarray\n",
    "        else: \n",
    "            r = mid - 1\n",
    "      \n",
    "    # If we reach here, then the element was not present \n",
    "    return -1"
   ]
  },
  {
   "cell_type": "code",
   "execution_count": 28,
   "metadata": {},
   "outputs": [],
   "source": [
    "# Driver code to test above\n",
    "arr = [11, 12, 22, 25, 34, 64, 90]\n",
    "n = 34"
   ]
  },
  {
   "cell_type": "code",
   "execution_count": 29,
   "metadata": {},
   "outputs": [
    {
     "name": "stdout",
     "output_type": "stream",
     "text": [
      "Element is present at index 4\n"
     ]
    }
   ],
   "source": [
    "# Calls the function above\n",
    "result = binsearchi(arr, 0, len(arr)-1, n) \n",
    "  \n",
    "if result != -1: \n",
    "    print('Element is present at index', result) \n",
    "else: \n",
    "    print('Element is not present in array')"
   ]
  },
  {
   "cell_type": "code",
   "execution_count": null,
   "metadata": {},
   "outputs": [],
   "source": []
  }
 ],
 "metadata": {
  "kernelspec": {
   "display_name": "Python 3",
   "language": "python",
   "name": "python3"
  },
  "language_info": {
   "codemirror_mode": {
    "name": "ipython",
    "version": 3
   },
   "file_extension": ".py",
   "mimetype": "text/x-python",
   "name": "python",
   "nbconvert_exporter": "python",
   "pygments_lexer": "ipython3",
   "version": "3.7.4"
  }
 },
 "nbformat": 4,
 "nbformat_minor": 2
}
